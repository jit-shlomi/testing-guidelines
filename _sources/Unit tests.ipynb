{
 "cells": [
  {
   "cell_type": "markdown",
   "metadata": {},
   "source": [
    "# Unit test\n",
    "\n",
    "We test our logic. not the resources we use. That means that if, for instace we use a DB we don't care about the performance of DB. <br>\n",
    "So, we mock the DB. So ask yourself this:\n",
    "* If the DB is mocked, do we have any logic to test? if not - don't test it. So if all you have is a wrapper to a write operation - you have nothing to test.\n",
    "* Do you need to mock the DB operation? genrally the answer is no! not during unit tests. So doing something like using moto to mock dynamodb and creating a fake Table with data it's not a good idea. It's A LOT work. it's hard to maintain.\n",
    "\n"
   ]
  },
  {
   "cell_type": "markdown",
   "metadata": {},
   "source": [
    "## Data layer unit tests\n",
    "let's take a look at this piece of code:\n",
    " ```python\n",
    "def __init__(self):\n",
    "    dynamodb = boto3.resource('dynamodb', **aws_params)\n",
    "    self.table = dynamodb.Table(TABLE_NAME)\n",
    "\n",
    "\n",
    "def insert_record(self, record):\n",
    "   if not isinstance(record, self.model):\n",
    "       raise Exception('Record model failed validation')\n",
    "\n",
    "   item = record.dict()\n",
    "   item[\"PK\"] = self.get_key(tenant=item[\"tenant_id\"])\n",
    "   item[\"SK\"] = self.get_key(vendor=item[\"vendor\"], app_id=item[\"app_id\"], id=item[\"installation_id\"])\n",
    "   \n",
    "   response = self.table.put_item(\n",
    "       Item=item\n",
    "   )\n",
    "   if self._verify_response(response):\n",
    "       return record.dict()\n",
    "   else:\n",
    "       return {}\n",
    " ```"
   ]
  },
  {
   "cell_type": "markdown",
   "metadata": {},
   "source": [
    "### How would you test this?\n",
    "* Should you mock the DB and:\n",
    "  * Use moto to create a fake DB? (NO)\n",
    "  * Create your own mock DB implementation? (NO)\n",
    "  * mock boto3, boto3.resource, Table and put_item ? (YES)\n",
    "  \n",
    "\n",
    "#### Let's do it"
   ]
  },
  {
   "cell_type": "markdown",
   "metadata": {},
   "source": []
  },
  {
   "cell_type": "markdown",
   "metadata": {},
   "source": []
  },
  {
   "cell_type": "markdown",
   "metadata": {},
   "source": []
  }
 ],
 "metadata": {
  "kernelspec": {
   "display_name": "Python 3 (ipykernel)",
   "language": "python",
   "name": "python3"
  },
  "language_info": {
   "codemirror_mode": {
    "name": "ipython",
    "version": 3
   },
   "file_extension": ".py",
   "mimetype": "text/x-python",
   "name": "python",
   "nbconvert_exporter": "python",
   "pygments_lexer": "ipython3",
   "version": "3.8.8"
  },
  "widgets": {
   "application/vnd.jupyter.widget-state+json": {
    "state": {},
    "version_major": 2,
    "version_minor": 0
   }
  }
 },
 "nbformat": 4,
 "nbformat_minor": 4
}
